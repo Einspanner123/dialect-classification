{
 "cells": [
  {
   "cell_type": "code",
   "execution_count": 21,
   "metadata": {},
   "outputs": [
    {
     "name": "stderr",
     "output_type": "stream",
     "text": [
      "100%|██████████| 100/100 [00:00<00:00, 242.62it/s]\n"
     ]
    },
    {
     "name": "stdout",
     "output_type": "stream",
     "text": [
      "100 100\n"
     ]
    }
   ],
   "source": [
    "from multiprocessing import Manager\n",
    "from multiprocessing.pool import Pool\n",
    "import numpy as np\n",
    "import librosa\n",
    "from tqdm import tqdm\n",
    "\n",
    "manager = Manager()\n",
    "l1 = manager.list()\n",
    "l2 = manager.list()\n",
    "pool = Pool(None)\n",
    "ll = []\n",
    "for i in tqdm(range(100), \n",
    "              total=100):\n",
    "    pool.apply(func=l1.append, args=(i,))\n",
    "    pool.apply(func=l2.append, args=(i,))\n",
    "    ll.append(i)\n",
    "\n",
    "\n",
    "pool.close()\n",
    "pool.join()\n",
    "cnt1=0\n",
    "cnt2=0\n",
    "for a in np.arange(100):\n",
    "    if(l1[a]==a):\n",
    "        cnt1+=1\n",
    "    if(l2[a]==a):\n",
    "        cnt2+=1\n",
    "    \n",
    "print(cnt1, cnt2)\n",
    "\n"
   ]
  },
  {
   "cell_type": "code",
   "execution_count": null,
   "metadata": {},
   "outputs": [],
   "source": []
  },
  {
   "cell_type": "code",
   "execution_count": null,
   "metadata": {},
   "outputs": [],
   "source": [
    "import multiprocessing\n",
    "def f(l):\n",
    "\t\t# 在子进程中向共享列表中添加元素\n",
    "\t\tl.append(multiprocessing.current_process().name)\n",
    "if name == 'main':\n",
    "\t\t# 创建一个Manager对象\n",
    "\t\tmanager = multiprocessing.Manager()\n",
    "\t\t# 创建一个可在多个进程之间共享的列表对象\n",
    "\t\tl = manager.list()\n",
    "\t\t# 创建两个子进程，并传入共享列表作为参数\n",
    "\t\tp1 = multiprocessing.Process(target=f, args=(l,))\n",
    "\t\tp2 = multiprocessing.Process(target=f, args=(l,))\n",
    "\t\t# 启动子进程\n",
    "\t\tp1.start()\n",
    "\t\tp2.start()\n",
    "\t\t# 等待子进程结束\n",
    "\t\tp1.join()\n",
    "\t\tp2.join()\n",
    "\t\t# 在主进程中打印共享列表的内容\n",
    "\t\tprint(l)"
   ]
  }
 ],
 "metadata": {
  "kernelspec": {
   "display_name": "dialect",
   "language": "python",
   "name": "python3"
  },
  "language_info": {
   "codemirror_mode": {
    "name": "ipython",
    "version": 3
   },
   "file_extension": ".py",
   "mimetype": "text/x-python",
   "name": "python",
   "nbconvert_exporter": "python",
   "pygments_lexer": "ipython3",
   "version": "3.7.0"
  },
  "orig_nbformat": 4
 },
 "nbformat": 4,
 "nbformat_minor": 2
}
